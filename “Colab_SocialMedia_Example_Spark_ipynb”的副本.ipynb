{
  "nbformat": 4,
  "nbformat_minor": 0,
  "metadata": {
    "colab": {
      "name": "“Colab-SocialMedia-Example-Spark.ipynb”的副本",
      "provenance": [],
      "collapsed_sections": [],
      "include_colab_link": true
    },
    "kernelspec": {
      "name": "python3",
      "display_name": "Python 3"
    }
  },
  "cells": [
    {
      "cell_type": "markdown",
      "metadata": {
        "id": "view-in-github",
        "colab_type": "text"
      },
      "source": [
        "<a href=\"https://colab.research.google.com/github/cl812958191/BigDataAnalytics/blob/master/%E2%80%9CColab_SocialMedia_Example_Spark_ipynb%E2%80%9D%E7%9A%84%E5%89%AF%E6%9C%AC.ipynb\" target=\"_parent\"><img src=\"https://colab.research.google.com/assets/colab-badge.svg\" alt=\"Open In Colab\"/></a>"
      ]
    },
    {
      "cell_type": "code",
      "metadata": {
        "id": "LmxLySb20jtX"
      },
      "source": [
        "# Spark installation on Colab\n",
        "# !apt-get install openjdk-8-jdk-headless -qq > /dev/null\n",
        "!wget -q https://downloads.apache.org/spark/spark-3.0.1/spark-3.0.1-bin-hadoop3.2.tgz\n",
        "!tar xf spark-3.0.1-bin-hadoop3.2.tgz\n",
        "!pip install -q findspark\n",
        "!rm -rf spark-3.0.1-bin-hadoop3.2.tgz"
      ],
      "execution_count": null,
      "outputs": []
    },
    {
      "cell_type": "code",
      "metadata": {
        "id": "Nor9olN20p0M"
      },
      "source": [
        "# Set JAVA_HOME and SPARK_HOME\n",
        "import os\n",
        "os.environ[\"JAVA_HOME\"] = \"/usr/lib/jvm/java-11-openjdk-amd64\"\n",
        "os.environ[\"SPARK_HOME\"] = \"spark-3.0.1-bin-hadoop3.2\"\n",
        "\n",
        "import findspark\n",
        "findspark.init(\"spark-3.0.1-bin-hadoop3.2\")# SPARK_HOME\n",
        "\n",
        "\n",
        "import sys\n",
        "import requests\n",
        "from operator import add\n",
        "\n",
        "from pyspark import SparkConf,SparkContext\n",
        "from pyspark.streaming import StreamingContext\n",
        "\n",
        "from pyspark.sql import SparkSession\n",
        "from pyspark.sql import SQLContext\n",
        "\n",
        "from pyspark.sql.types import *\n",
        "from pyspark.sql import functions as func\n",
        "from pyspark.sql.functions import *\n",
        "\n",
        "spark = SparkSession.builder.master(\"local[*]\").getOrCreate()\n",
        "sc = SparkContext.getOrCreate()\n",
        "sqlContext = SQLContext(sc)"
      ],
      "execution_count": null,
      "outputs": []
    },
    {
      "cell_type": "markdown",
      "metadata": {
        "id": "XL3CjM3406y4"
      },
      "source": [
        ""
      ]
    },
    {
      "cell_type": "code",
      "metadata": {
        "id": "2bNmkjaMYk7r"
      },
      "source": [
        "# Download the data\n",
        "! wget -q https://s3.amazonaws.com/metcs777/person_knows_person.csv\n",
        "! wget -q https://s3.amazonaws.com/metcs777/person_likes_post.csv\n",
        "! wget -q https://s3.amazonaws.com/metcs777/post_hasCreator_person.csv\n",
        "! wget -q https://s3.amazonaws.com/metcs777/comment_hasCreator_person.csv\n",
        "! wget -q https://s3.amazonaws.com/metcs777/comment_replyOf_post.csv\n"
      ],
      "execution_count": null,
      "outputs": []
    },
    {
      "cell_type": "code",
      "metadata": {
        "id": "Q0qB4iql-uaK",
        "outputId": "b1f61614-e2d4-4f3b-ab35-429574c55399",
        "colab": {
          "base_uri": "https://localhost:8080/"
        }
      },
      "source": [
        "! ls -la "
      ],
      "execution_count": null,
      "outputs": [
        {
          "output_type": "stream",
          "text": [
            "total 33572\n",
            "drwxr-xr-x  1 root root     4096 Nov 12 00:50 .\n",
            "drwxr-xr-x  1 root root     4096 Nov 12 00:41 ..\n",
            "-rw-r--r--  1 root root  7398677 Dec 12  2018 comment_hasCreator_person.csv\n",
            "-rw-r--r--  1 root root  3392677 Dec 12  2018 comment_replyOf_post.csv\n",
            "drwxr-xr-x  1 root root     4096 Nov  6 17:30 .config\n",
            "-rw-r--r--  1 root root   232246 Dec 12  2018 person_knows_person.csv\n",
            "-rw-r--r--  1 root root 21372777 Aug 15 19:14 person_likes_post.csv\n",
            "-rw-r--r--  1 root root  1950946 Dec 12  2018 post_hasCreator_person.csv\n",
            "drwxr-xr-x  1 root root     4096 Nov  6 17:30 sample_data\n",
            "drwxr-xr-x 13 1000 1000     4096 Aug 28 09:22 spark-3.0.1-bin-hadoop3.2\n"
          ],
          "name": "stdout"
        }
      ]
    },
    {
      "cell_type": "code",
      "metadata": {
        "id": "iKSEjiPucGoa",
        "outputId": "5d8d5d00-dcc2-49b7-c6df-45062d5be5ae",
        "colab": {
          "base_uri": "https://localhost:8080/"
        }
      },
      "source": [
        "!pwd"
      ],
      "execution_count": null,
      "outputs": [
        {
          "output_type": "stream",
          "text": [
            "/content\n"
          ],
          "name": "stdout"
        }
      ]
    },
    {
      "cell_type": "code",
      "metadata": {
        "id": "h5VEYx0pAgy8"
      },
      "source": [
        "# Set your file path here \n",
        "path=\"file:///content/\"\n",
        "\n",
        "# You have 5 files \n",
        "\n",
        "# comment_hasCreator_person.csv\n",
        "# comment_replyOf_post.csv\n",
        "# person_knows_person.csv\n",
        "# person_likes_post.csv\n",
        "# post_hasCreator_person.csv\n",
        "\n",
        "fileCommentHasCreator= path+\"comment_hasCreator_person.csv\"\n",
        "fileComment_replyOf_post = path+\"comment_replyOf_post.csv\"\n",
        "filePerson_knows_person= path+\"person_knows_person.csv\"\n",
        "filePerson_likes_post = path + \"person_likes_post.csv\"\n",
        "filePost_hasCreator_person = path + \"post_hasCreator_person.csv\""
      ],
      "execution_count": null,
      "outputs": []
    },
    {
      "cell_type": "markdown",
      "metadata": {
        "id": "9DsYcQ5Yc_uN"
      },
      "source": [
        "#Create RDDs "
      ]
    },
    {
      "cell_type": "code",
      "metadata": {
        "id": "rz5WU1Iuccm0"
      },
      "source": [
        "def getRDD(mfile, sc):\n",
        "\t\tlines = sc.textFile(mfile)\n",
        "\t\t# Removing the Header Line \n",
        "\t\tlinesHeader = lines.first()\n",
        "\t\theader = sc.parallelize([linesHeader])\n",
        "\t\tlinesWithOutHeader = lines.subtract(header)\n",
        "\t\tmyRDD = linesWithOutHeader.map(lambda x: x.split('|'))\n",
        "\t\treturn myRDD"
      ],
      "execution_count": null,
      "outputs": []
    },
    {
      "cell_type": "code",
      "metadata": {
        "id": "jyaYcn99cSWV"
      },
      "source": [
        "\t# Create RDDs from files \n",
        "\tcommentHasCreator = getRDD(fileCommentHasCreator, sc)\n",
        "\tcomment_replyOf_post = getRDD(fileComment_replyOf_post, sc)\n",
        "\tperson_knows_person = getRDD(filePerson_knows_person, sc)\n",
        "\tperson_likes_post = getRDD(filePerson_likes_post, sc)\n",
        "\tpost_hasCreator_person = getRDD(filePost_hasCreator_person, sc)"
      ],
      "execution_count": null,
      "outputs": []
    },
    {
      "cell_type": "code",
      "metadata": {
        "id": "0gZJZ01KcUaf",
        "outputId": "c9196cd1-f7ae-447c-a552-8d609b4008fb",
        "colab": {
          "base_uri": "https://localhost:8080/"
        }
      },
      "source": [
        "person_likes_post.take(10)"
      ],
      "execution_count": null,
      "outputs": [
        {
          "output_type": "execute_result",
          "data": {
            "text/plain": [
              "[['47', '20', '2012-10-23T03:32:14Z'],\n",
              " ['378', '20', '2012-10-25T01:03:21Z'],\n",
              " ['592', '20', '2012-10-18T06:02:36Z'],\n",
              " ['724', '20', '2012-10-23T00:17:38Z'],\n",
              " ['507', '30', '2012-06-23T07:15:14Z'],\n",
              " ['576', '40', '2012-12-31T05:50:25Z'],\n",
              " ['672', '40', '2012-12-27T02:02:20Z'],\n",
              " ['711', '40', '2012-12-31T10:22:23Z'],\n",
              " ['417', '50', '2012-09-05T00:59:45Z'],\n",
              " ['109', '50', '2012-09-04T11:24:35Z']]"
            ]
          },
          "metadata": {
            "tags": []
          },
          "execution_count": 15
        }
      ]
    },
    {
      "cell_type": "code",
      "metadata": {
        "id": "zJiZLJai-nF-",
        "outputId": "5b149566-2c5c-4cdb-8b4c-dc6132af7455",
        "colab": {
          "base_uri": "https://localhost:8080/"
        }
      },
      "source": [
        "commentHasCreator.take(10)"
      ],
      "execution_count": null,
      "outputs": [
        {
          "output_type": "execute_result",
          "data": {
            "text/plain": [
              "[['30', '457'],\n",
              " ['40', '956'],\n",
              " ['90', '6'],\n",
              " ['120', '962'],\n",
              " ['170', '48'],\n",
              " ['230', '956'],\n",
              " ['260', '29'],\n",
              " ['320', '6'],\n",
              " ['380', '501'],\n",
              " ['440', '498']]"
            ]
          },
          "metadata": {
            "tags": []
          },
          "execution_count": 16
        }
      ]
    },
    {
      "cell_type": "code",
      "metadata": {
        "id": "qmt7P46s-who"
      },
      "source": [
        "commentHasCreator.join()"
      ],
      "execution_count": null,
      "outputs": []
    },
    {
      "cell_type": "markdown",
      "metadata": {
        "id": "M91Aasfec8BL"
      },
      "source": [
        "# Create Dataframes"
      ]
    },
    {
      "cell_type": "code",
      "metadata": {
        "id": "eHCWjR6rBDfE"
      },
      "source": [
        "commentHasCreatorDD = sqlContext.read.format('csv').options(header='true', inferSchema='true',  sep =\"|\").load(fileCommentHasCreator)\n",
        "comment_replyOf_postDD = sqlContext.read.format('csv').options(header='true', inferSchema='true',  sep =\"|\").load(fileComment_replyOf_post)\n",
        "person_knows_personDD = sqlContext.read.format('csv').options(header='true', inferSchema='true',  sep =\"|\").load(filePerson_knows_person)\n",
        "person_likes_postDD = sqlContext.read.format('csv').options(header='true', inferSchema='true',  sep =\"|\").load(filePerson_likes_post)\n",
        "post_hasCreator_personDD = sqlContext.read.format('csv').options(header='true', inferSchema='true',  sep =\"|\").load(filePost_hasCreator_person)\n"
      ],
      "execution_count": null,
      "outputs": []
    },
    {
      "cell_type": "code",
      "metadata": {
        "id": "JTMIAdr1dmD2",
        "outputId": "60a3e70e-3dba-4bfa-b94a-c9f3b2e7609c",
        "colab": {
          "base_uri": "https://localhost:8080/"
        }
      },
      "source": [
        "commentHasCreatorDD.show()\n",
        "comment_replyOf_postDD.show()\n",
        "person_knows_personDD.show()\n",
        "person_likes_postDD.show()\n",
        "post_hasCreator_personDD.show()\n"
      ],
      "execution_count": null,
      "outputs": [
        {
          "output_type": "stream",
          "text": [
            "+----------+---------+\n",
            "|Comment.id|Person.id|\n",
            "+----------+---------+\n",
            "|         0|       74|\n",
            "|        10|      832|\n",
            "|        20|      913|\n",
            "|        30|      457|\n",
            "|        40|      956|\n",
            "|        50|       41|\n",
            "|        60|      453|\n",
            "|        70|      832|\n",
            "|        80|        6|\n",
            "|        90|        6|\n",
            "|       100|      103|\n",
            "|       110|      547|\n",
            "|       120|      962|\n",
            "|       130|       99|\n",
            "|       140|      452|\n",
            "|       150|       99|\n",
            "|       160|        6|\n",
            "|       170|       48|\n",
            "|       180|      941|\n",
            "|       190|       40|\n",
            "+----------+---------+\n",
            "only showing top 20 rows\n",
            "\n",
            "+----------+-------+\n",
            "|Comment.id|Post.id|\n",
            "+----------+-------+\n",
            "|         0|      0|\n",
            "|        10|      0|\n",
            "|        30|      0|\n",
            "|        70|      0|\n",
            "|       100|     10|\n",
            "|       110|     10|\n",
            "|       140|     10|\n",
            "|       150|     10|\n",
            "|       180|     10|\n",
            "|       240|     20|\n",
            "|       250|     20|\n",
            "|       330|     20|\n",
            "|       340|     30|\n",
            "|       350|     30|\n",
            "|       420|     30|\n",
            "|       470|     40|\n",
            "|       480|     40|\n",
            "|       510|     40|\n",
            "|       560|     40|\n",
            "|       660|     50|\n",
            "+----------+-------+\n",
            "only showing top 20 rows\n",
            "\n",
            "+----------+----------+\n",
            "|Person.id0|Person.id1|\n",
            "+----------+----------+\n",
            "|        38|       956|\n",
            "|        38|       962|\n",
            "|        38|       941|\n",
            "|        38|        74|\n",
            "|        38|        36|\n",
            "|        38|        53|\n",
            "|        38|        48|\n",
            "|        38|        29|\n",
            "|        38|        46|\n",
            "|        38|        40|\n",
            "|        38|        60|\n",
            "|        38|        31|\n",
            "|        38|        41|\n",
            "|        38|         6|\n",
            "|        38|         4|\n",
            "|        38|       547|\n",
            "|        38|       832|\n",
            "|        38|       129|\n",
            "|        38|       915|\n",
            "|        38|       921|\n",
            "+----------+----------+\n",
            "only showing top 20 rows\n",
            "\n",
            "+---------+-------+-------------------+\n",
            "|Person.id|Post.id|       creationDate|\n",
            "+---------+-------+-------------------+\n",
            "|       74|      0|2012-10-15 05:13:41|\n",
            "|       36|      0|2012-10-18 10:51:39|\n",
            "|      417|     10|2012-11-18 11:14:47|\n",
            "|      415|     10|2012-11-20 06:30:22|\n",
            "|      109|     10|2012-11-19 11:03:52|\n",
            "|      119|     10|2012-11-16 09:07:14|\n",
            "|       70|     10|2012-11-19 04:53:43|\n",
            "|       47|     20|2012-10-23 03:32:14|\n",
            "|      378|     20|2012-10-25 01:03:21|\n",
            "|      643|     20|2012-10-18 11:45:28|\n",
            "|      592|     20|2012-10-18 06:02:36|\n",
            "|      576|     20|2012-10-21 02:23:03|\n",
            "|      606|     20|2012-10-24 01:03:00|\n",
            "|      724|     20|2012-10-23 00:17:38|\n",
            "|      672|     20|2012-10-24 04:32:12|\n",
            "|      711|     20|2012-10-22 04:38:54|\n",
            "|      915|     30|2012-06-22 09:10:46|\n",
            "|      921|     30|2012-06-19 03:22:50|\n",
            "|      507|     30|2012-06-23 07:15:14|\n",
            "|      501|     30|2012-06-23 00:34:27|\n",
            "+---------+-------+-------------------+\n",
            "only showing top 20 rows\n",
            "\n",
            "+-------+---------+\n",
            "|Post.id|Person.id|\n",
            "+-------+---------+\n",
            "|      0|       38|\n",
            "|     10|       38|\n",
            "|     20|       38|\n",
            "|     30|       38|\n",
            "|     40|       38|\n",
            "|     50|       38|\n",
            "|     60|       38|\n",
            "|     70|       38|\n",
            "|     80|       38|\n",
            "|     90|       38|\n",
            "|    100|       38|\n",
            "|    110|       38|\n",
            "|    120|       38|\n",
            "|    130|       38|\n",
            "|    140|       38|\n",
            "|    150|       38|\n",
            "|    160|       38|\n",
            "|    170|       38|\n",
            "|    180|       38|\n",
            "|    190|       38|\n",
            "+-------+---------+\n",
            "only showing top 20 rows\n",
            "\n"
          ],
          "name": "stdout"
        }
      ]
    },
    {
      "cell_type": "code",
      "metadata": {
        "id": "XS4aiaZUEABC",
        "outputId": "e3efabd9-5f21-40d0-c89e-962936926e8c",
        "colab": {
          "base_uri": "https://localhost:8080/"
        }
      },
      "source": [
        "commentHasCreatorDD = commentHasCreatorDD.withColumnRenamed(\"Comment.id\", \"Comment\").withColumnRenamed(\"Person.id\", \"Person\")\n",
        "comment_replyOf_postDD = comment_replyOf_postDD.withColumnRenamed(\"Comment.id\", \"Comment\").withColumnRenamed(\"Post.id\", \"Post\")\n",
        "person_knows_personDD = person_knows_personDD.withColumnRenamed(\"Person.id0\", \"Id0\").withColumnRenamed(\"Person.id1\", \"Id1\")\n",
        "person_likes_postDD = person_likes_postDD.withColumnRenamed(\"Person.id\",\"Person\").withColumnRenamed(\"Post.id\",\"Post\")\n",
        "temp = commentHasCreatorDD.join(comment_replyOf_postDD, commentHasCreatorDD.Comment == comment_replyOf_postDD.Comment).drop(commentHasCreatorDD.Comment)\n",
        "temp2  = temp.join(person_knows_personDD, temp.Person == person_knows_personDD.Id1).drop(person_knows_personDD.Id1)\n",
        "temp3 = temp2.join(person_likes_postDD, temp2.Person == person_likes_postDD.Person).drop(person_likes_postDD.Person)\n",
        "temp3.show()\n"
      ],
      "execution_count": null,
      "outputs": [
        {
          "output_type": "stream",
          "text": [
            "+------+-------+-----+---+-----+-------------------+\n",
            "|Person|Comment| Post|Id0| Post|       creationDate|\n",
            "+------+-------+-----+---+-----+-------------------+\n",
            "|   463|  54790|10780|458|10440|2012-08-28 02:39:27|\n",
            "|   463|  54790|10780|458|10450|2012-10-28 10:50:42|\n",
            "|   463|  54790|10780|458|10520|2012-09-10 07:26:36|\n",
            "|   463|  54790|10780|458|10600|2012-07-15 11:47:32|\n",
            "|   463|  54790|10780|458|10900|2012-09-18 10:13:46|\n",
            "|   463|  54790|10780|458|11000|2012-07-26 04:46:03|\n",
            "|   463|  54790|10780|458|11030|2012-10-08 02:50:38|\n",
            "|   463|  54790|10780|458|11150|2012-08-26 07:01:04|\n",
            "|   463|  54790|10780|458|11210|2012-08-21 10:47:06|\n",
            "|   463|  54790|10780|458|11350|2013-01-20 02:39:15|\n",
            "|   463|  54790|10780|458|11360|2012-12-27 02:41:59|\n",
            "|   463|  54790|10780|458|11480|2012-11-27 08:11:34|\n",
            "|   463|  54790|10780|458|11500|2012-10-11 08:46:01|\n",
            "|   463|  54790|10780|458|11520|2012-06-04 04:19:34|\n",
            "|   463|  54790|10780|458|11550|2012-09-04 00:50:34|\n",
            "|   463|  54790|10780|458|11670|2012-12-29 04:55:07|\n",
            "|   463|  54790|10780|458|11690|2012-06-04 06:34:28|\n",
            "|   463|  54790|10780|458|11800|2013-01-08 03:59:24|\n",
            "|   463|  54790|10780|458|12000|2013-01-15 02:27:06|\n",
            "|   463|  54790|10780|458|12190|2013-01-07 04:08:16|\n",
            "+------+-------+-----+---+-----+-------------------+\n",
            "only showing top 20 rows\n",
            "\n"
          ],
          "name": "stdout"
        }
      ]
    },
    {
      "cell_type": "code",
      "metadata": {
        "id": "l7KVPonQD7yT"
      },
      "source": [
        "from pyspark.sql import functions as F\n",
        "temp3 = temp3.withColumn(\"num\", lit(1))\n",
        "tempAnswer = temp3.groupBy(\"Person\").agg(F.sum('num').alias('sum'))\n",
        "numActivity = tempAnswer.orderBy(desc(\"sum\")).limit(10)\n",
        "numActivity.take(10)"
      ],
      "execution_count": null,
      "outputs": []
    },
    {
      "cell_type": "code",
      "metadata": {
        "id": "3RbtoMgrGS_R"
      },
      "source": [
        ""
      ],
      "execution_count": null,
      "outputs": []
    },
    {
      "cell_type": "code",
      "metadata": {
        "id": "myHwtztJEYhs"
      },
      "source": [
        ""
      ],
      "execution_count": null,
      "outputs": []
    }
  ]
}